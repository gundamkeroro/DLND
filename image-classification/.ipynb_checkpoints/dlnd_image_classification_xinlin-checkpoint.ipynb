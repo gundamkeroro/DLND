{
 "cells": [
  {
   "cell_type": "markdown",
   "metadata": {
    "collapsed": true
   },
   "source": [
    "# Image Classification\n",
    "In this project, you'll classify images from the [CIFAR-10 dataset](https://www.cs.toronto.edu/~kriz/cifar.html).  The dataset consists of airplanes, dogs, cats, and other objects. You'll preprocess the images, then train a convolutional neural network on all the samples. The images need to be normalized and the labels need to be one-hot encoded.  You'll get to apply what you learned and build a convolutional, max pooling, dropout, and fully connected layers.  At the end, you'll get to see your neural network's predictions on the sample images.\n",
    "## Get the Data\n",
    "Run the following cell to download the [CIFAR-10 dataset for python](https://www.cs.toronto.edu/~kriz/cifar-10-python.tar.gz)."
   ]
  },
  {
   "cell_type": "code",
   "execution_count": 1,
   "metadata": {
    "collapsed": false
   },
   "outputs": [
    {
     "name": "stdout",
     "output_type": "stream",
     "text": [
      "All files found!\n"
     ]
    }
   ],
   "source": [
    "\"\"\"\n",
    "DON'T MODIFY ANYTHING IN THIS CELL THAT IS BELOW THIS LINE\n",
    "\"\"\"\n",
    "from urllib.request import urlretrieve\n",
    "from os.path import isfile, isdir\n",
    "from tqdm import tqdm\n",
    "import problem_unittests as tests\n",
    "import tarfile\n",
    "\n",
    "import tensorflow as tf\n",
    "\n",
    "cifar10_dataset_folder_path = 'cifar-10-batches-py'\n",
    "\n",
    "# Use Floyd's cifar-10 dataset if present\n",
    "floyd_cifar10_location = '/input/cifar-10/python.tar.gz'\n",
    "if isfile(floyd_cifar10_location):\n",
    "    tar_gz_path = floyd_cifar10_location\n",
    "else:\n",
    "    tar_gz_path = 'cifar-10-python.tar.gz'\n",
    "\n",
    "class DLProgress(tqdm):\n",
    "    last_block = 0\n",
    "\n",
    "    def hook(self, block_num=1, block_size=1, total_size=None):\n",
    "        self.total = total_size\n",
    "        self.update((block_num - self.last_block) * block_size)\n",
    "        self.last_block = block_num\n",
    "\n",
    "if not isfile(tar_gz_path):\n",
    "    with DLProgress(unit='B', unit_scale=True, miniters=1, desc='CIFAR-10 Dataset') as pbar:\n",
    "        urlretrieve(\n",
    "            'https://www.cs.toronto.edu/~kriz/cifar-10-python.tar.gz',\n",
    "            tar_gz_path,\n",
    "            pbar.hook)\n",
    "\n",
    "if not isdir(cifar10_dataset_folder_path):\n",
    "    with tarfile.open(tar_gz_path) as tar:\n",
    "        tar.extractall()\n",
    "        tar.close()\n",
    "\n",
    "\n",
    "tests.test_folder_path(cifar10_dataset_folder_path)"
   ]
  },
  {
   "cell_type": "markdown",
   "metadata": {},
   "source": [
    "## Explore the Data\n",
    "The dataset is broken into batches to prevent your machine from running out of memory.  The CIFAR-10 dataset consists of 5 batches, named `data_batch_1`, `data_batch_2`, etc.. Each batch contains the labels and images that are one of the following:\n",
    "* airplane\n",
    "* automobile\n",
    "* bird\n",
    "* cat\n",
    "* deer\n",
    "* dog\n",
    "* frog\n",
    "* horse\n",
    "* ship\n",
    "* truck\n",
    "\n",
    "Understanding a dataset is part of making predictions on the data.  Play around with the code cell below by changing the `batch_id` and `sample_id`. The `batch_id` is the id for a batch (1-5). The `sample_id` is the id for a image and label pair in the batch.\n",
    "\n",
    "Ask yourself \"What are all possible labels?\", \"What is the range of values for the image data?\", \"Are the labels in order or random?\".  Answers to questions like these will help you preprocess the data and end up with better predictions."
   ]
  },
  {
   "cell_type": "code",
   "execution_count": 2,
   "metadata": {
    "collapsed": false
   },
   "outputs": [
    {
     "name": "stdout",
     "output_type": "stream",
     "text": [
      "\n",
      "Stats of batch 1:\n",
      "Samples: 10000\n",
      "Label Counts: {0: 1005, 1: 974, 2: 1032, 3: 1016, 4: 999, 5: 937, 6: 1030, 7: 1001, 8: 1025, 9: 981}\n",
      "First 20 Labels: [6, 9, 9, 4, 1, 1, 2, 7, 8, 3, 4, 7, 7, 2, 9, 9, 9, 3, 2, 6]\n",
      "\n",
      "Example of Image 55:\n",
      "Image - Min Value: 15 Max Value: 255\n",
      "Image - Shape: (32, 32, 3)\n",
      "Label - Label Id: 2 Name: bird\n"
     ]
    },
    {
     "data": {
      "image/png": "[encoded data removed]",
      "text/plain": [
       "<matplotlib.figure.Figure at 0x11b8c21d0>"
      ]
     },
     "metadata": {
      "image/png": {
       "height": 250,
       "width": 253
      }
     },
     "output_type": "display_data"
    }
   ],
   "source": [
    "%matplotlib inline\n",
    "%config InlineBackend.figure_format = 'retina'\n",
    "\n",
    "import helper\n",
    "import numpy as np\n",
    "from random import randint\n",
    "# Explore the dataset\n",
    "batch_id = 1\n",
    "sample_id = 55\n",
    "helper.display_stats(cifar10_dataset_folder_path, batch_id, sample_id)"
   ]
  },
  {
   "cell_type": "code",
   "execution_count": 3,
   "metadata": {
    "collapsed": false
   },
   "outputs": [
    {
     "name": "stdout",
     "output_type": "stream",
     "text": [
      "\n",
      "Stats of batch 2:\n",
      "Samples: 10000\n",
      "Label Counts: {0: 984, 1: 1007, 2: 1010, 3: 995, 4: 1010, 5: 988, 6: 1008, 7: 1026, 8: 987, 9: 985}\n",
      "First 20 Labels: [1, 6, 6, 8, 8, 3, 4, 6, 0, 6, 0, 3, 6, 6, 5, 4, 8, 3, 2, 6]\n",
      "\n",
      "Example of Image 15:\n",
      "Image - Min Value: 1 Max Value: 225\n",
      "Image - Shape: (32, 32, 3)\n",
      "Label - Label Id: 4 Name: deer\n"
     ]
    },
    {
     "data": {
      "image/png": "[encoded data removed]",
      "text/plain": [
       "<matplotlib.figure.Figure at 0x1240ac748>"
      ]
     },
     "metadata": {
      "image/png": {
       "height": 250,
       "width": 253
      }
     },
     "output_type": "display_data"
    }
   ],
   "source": [
    "batch_id = 2\n",
    "sample_id = 15\n",
    "helper.display_stats(cifar10_dataset_folder_path, batch_id, sample_id)"
   ]
  },
  {
   "cell_type": "code",
   "execution_count": 4,
   "metadata": {
    "collapsed": false
   },
   "outputs": [
    {
     "name": "stdout",
     "output_type": "stream",
     "text": [
      "\n",
      "Stats of batch 4:\n",
      "Samples: 10000\n",
      "Label Counts: {0: 1003, 1: 963, 2: 1041, 3: 976, 4: 1004, 5: 1021, 6: 1004, 7: 981, 8: 1024, 9: 983}\n",
      "First 20 Labels: [0, 6, 0, 2, 7, 2, 1, 2, 4, 1, 5, 6, 6, 3, 1, 3, 5, 5, 8, 1]\n",
      "\n",
      "Example of Image 122:\n",
      "Image - Min Value: 40 Max Value: 218\n",
      "Image - Shape: (32, 32, 3)\n",
      "Label - Label Id: 3 Name: cat\n"
     ]
    },
    {
     "data": {
      "image/png": "[encoded data removed]",
      "text/plain": [
       "<matplotlib.figure.Figure at 0x1240d3a58>"
      ]
     },
     "metadata": {
      "image/png": {
       "height": 250,
       "width": 253
      }
     },
     "output_type": "display_data"
    }
   ],
   "source": [
    "batch_id = 4\n",
    "sample_id = 122\n",
    "helper.display_stats(cifar10_dataset_folder_path, batch_id, sample_id)"
   ]
  },
  {
   "cell_type": "markdown",
   "metadata": {},
   "source": [
    "## Implement Preprocess Functions\n",
    "### Normalize\n",
    "In the cell below, implement the `normalize` function to take in image data, `x`, and return it as a normalized Numpy array. The values should be in the range of 0 to 1, inclusive.  The return object should be the same shape as `x`."
   ]
  },
  {
   "cell_type": "code",
   "execution_count": 5,
   "metadata": {
    "collapsed": false
   },
   "outputs": [
    {
     "name": "stdout",
     "output_type": "stream",
     "text": [
      "Tests Passed\n"
     ]
    }
   ],
   "source": [
    "def normalize(x):\n",
    "    \"\"\"\n",
    "    Normalize a list of sample image data in the range of 0 to 1\n",
    "    : x: List of image data.  The image shape is (32, 32, 3)\n",
    "    : return: Numpy array of normalize data\n",
    "    \"\"\"\n",
    "    # TODO: Implement Function\n",
    "    return x / 255\n",
    "\n",
    "\n",
    "\"\"\"\n",
    "DON'T MODIFY ANYTHING IN THIS CELL THAT IS BELOW THIS LINE\n",
    "\"\"\"\n",
    "tests.test_normalize(normalize)"
   ]
  },
  {
   "cell_type": "markdown",
   "metadata": {},
   "source": [
    "### One-hot encode\n",
    "Just like the previous code cell, you'll be implementing a function for preprocessing.  This time, you'll implement the `one_hot_encode` function. The input, `x`, are a list of labels.  Implement the function to return the list of labels as One-Hot encoded Numpy array.  The possible values for labels are 0 to 9. The one-hot encoding function should return the same encoding for each value between each call to `one_hot_encode`.  Make sure to save the map of encodings outside the function.\n",
    "\n",
    "Hint: Don't reinvent the wheel."
   ]
  },
  {
   "cell_type": "code",
   "execution_count": 6,
   "metadata": {
    "collapsed": false
   },
   "outputs": [
    {
     "name": "stdout",
     "output_type": "stream",
     "text": [
      "Tests Passed\n"
     ]
    }
   ],
   "source": [
    "def one_hot_encode(x):\n",
    "    \"\"\"\n",
    "    One hot encode a list of sample labels. Return a one-hot encoded vector for each label.\n",
    "    : x: List of sample Labels\n",
    "    : return: Numpy array of one-hot encoded labels\n",
    "    \"\"\"\n",
    "    # TODO: Implement Function\n",
    "    length = len(x)\n",
    "    one_hot = np.zeros((length, 10))\n",
    "    one_hot[np.arange(length), x] = 1\n",
    "    return one_hot\n",
    "\n",
    "\n",
    "\"\"\"\n",
    "DON'T MODIFY ANYTHING IN THIS CELL THAT IS BELOW THIS LINE\n",
    "\"\"\"\n",
    "tests.test_one_hot_encode(one_hot_encode)"
   ]
  },
  {
   "cell_type": "markdown",
   "metadata": {},
   "source": [
    "### Randomize Data\n",
    "As you saw from exploring the data above, the order of the samples are randomized.  It doesn't hurt to randomize it again, but you don't need to for this dataset."
   ]
  },
  {
   "cell_type": "markdown",
   "metadata": {},
   "source": [
    "## Preprocess all the data and save it\n",
    "Running the code cell below will preprocess all the CIFAR-10 data and save it to file. The code below also uses 10% of the training data for validation."
   ]
  },
  {
   "cell_type": "code",
   "execution_count": 7,
   "metadata": {
    "collapsed": false
   },
   "outputs": [],
   "source": [
    "\"\"\"\n",
    "DON'T MODIFY ANYTHING IN THIS CELL\n",
    "\"\"\"\n",
    "# Preprocess Training, Validation, and Testing Data\n",
    "helper.preprocess_and_save_data(cifar10_dataset_folder_path, normalize, one_hot_encode)"
   ]
  },
  {
   "cell_type": "markdown",
   "metadata": {},
   "source": [
    "# Check Point\n",
    "This is your first checkpoint.  If you ever decide to come back to this notebook or have to restart the notebook, you can start from here.  The preprocessed data has been saved to disk."
   ]
  },
  {
   "cell_type": "code",
   "execution_count": 8,
   "metadata": {
    "collapsed": true
   },
   "outputs": [],
   "source": [
    "\"\"\"\n",
    "DON'T MODIFY ANYTHING IN THIS CELL\n",
    "\"\"\"\n",
    "import pickle\n",
    "import problem_unittests as tests\n",
    "import helper\n",
    "\n",
    "# Load the Preprocessed Validation data\n",
    "valid_features, valid_labels = pickle.load(open('preprocess_validation.p', mode='rb'))"
   ]
  },
  {
   "cell_type": "markdown",
   "metadata": {},
   "source": [
    "## Build the network\n",
    "For the neural network, you'll build each layer into a function.  Most of the code you've seen has been outside of functions. To test your code more thoroughly, we require that you put each layer in a function.  This allows us to give you better feedback and test for simple mistakes using our unittests before you submit your project.\n",
    "\n",
    ">**Note:** If you're finding it hard to dedicate enough time for this course each week, we've provided a small shortcut to this part of the project. In the next couple of problems, you'll have the option to use classes from the [TensorFlow Layers](https://www.tensorflow.org/api_docs/python/tf/layers) or [TensorFlow Layers (contrib)](https://www.tensorflow.org/api_guides/python/contrib.layers) packages to build each layer, except the layers you build in the \"Convolutional and Max Pooling Layer\" section.  TF Layers is similar to Keras's and TFLearn's abstraction to layers, so it's easy to pickup.\n",
    "\n",
    ">However, if you would like to get the most out of this course, try to solve all the problems _without_ using anything from the TF Layers packages. You **can** still use classes from other packages that happen to have the same name as ones you find in TF Layers! For example, instead of using the TF Layers version of the `conv2d` class, [tf.layers.conv2d](https://www.tensorflow.org/api_docs/python/tf/layers/conv2d), you would want to use the TF Neural Network version of `conv2d`, [tf.nn.conv2d](https://www.tensorflow.org/api_docs/python/tf/nn/conv2d). \n",
    "\n",
    "Let's begin!\n",
    "\n",
    "### Input\n",
    "The neural network needs to read the image data, one-hot encoded labels, and dropout keep probability. Implement the following functions\n",
    "* Implement `neural_net_image_input`\n",
    " * Return a [TF Placeholder](https://www.tensorflow.org/api_docs/python/tf/placeholder)\n",
    " * Set the shape using `image_shape` with batch size set to `None`.\n",
    " * Name the TensorFlow placeholder \"x\" using the TensorFlow `name` parameter in the [TF Placeholder](https://www.tensorflow.org/api_docs/python/tf/placeholder).\n",
    "* Implement `neural_net_label_input`\n",
    " * Return a [TF Placeholder](https://www.tensorflow.org/api_docs/python/tf/placeholder)\n",
    " * Set the shape using `n_classes` with batch size set to `None`.\n",
    " * Name the TensorFlow placeholder \"y\" using the TensorFlow `name` parameter in the [TF Placeholder](https://www.tensorflow.org/api_docs/python/tf/placeholder).\n",
    "* Implement `neural_net_keep_prob_input`\n",
    " * Return a [TF Placeholder](https://www.tensorflow.org/api_docs/python/tf/placeholder) for dropout keep probability.\n",
    " * Name the TensorFlow placeholder \"keep_prob\" using the TensorFlow `name` parameter in the [TF Placeholder](https://www.tensorflow.org/api_docs/python/tf/placeholder).\n",
    "\n",
    "These names will be used at the end of the project to load your saved model.\n",
    "\n",
    "Note: `None` for shapes in TensorFlow allow for a dynamic size."
   ]
  },
  {
   "cell_type": "code",
   "execution_count": 9,
   "metadata": {
    "collapsed": false
   },
   "outputs": [
    {
     "name": "stdout",
     "output_type": "stream",
     "text": [
      "Image Input Tests Passed.\n",
      "Label Input Tests Passed.\n",
      "Keep Prob Tests Passed.\n"
     ]
    }
   ],
   "source": [
    "def neural_net_image_input(image_shape):\n",
    "    \"\"\"\n",
    "    Return a Tensor for a batch of image input\n",
    "    : image_shape: Shape of the images\n",
    "    : return: Tensor for image input.\n",
    "    \"\"\"\n",
    "    # TODO: Implement Function\n",
    "    x = tf.placeholder(dtype=tf.float32, shape=(None, *image_shape), name='x')\n",
    "    return x\n",
    "\n",
    "\n",
    "def neural_net_label_input(n_classes):\n",
    "    \"\"\"\n",
    "    Return a Tensor for a batch of label input\n",
    "    : n_classes: Number of classes\n",
    "    : return: Tensor for label input.\n",
    "    \"\"\"\n",
    "    # TODO: Implement Function\n",
    "    y = tf.placeholder(dtype=tf.float32, shape=(None, n_classes), name='y')\n",
    "    return y\n",
    "\n",
    "\n",
    "def neural_net_keep_prob_input():\n",
    "    \"\"\"\n",
    "    Return a Tensor for keep probability\n",
    "    : return: Tensor for keep probability.\n",
    "    \"\"\"\n",
    "    # TODO: Implement Function\n",
    "    keep_prob = tf.placeholder(dtype=tf.float32, shape=None, name='keep_prob')\n",
    "    return keep_prob\n",
    "\n",
    "\n",
    "\"\"\"\n",
    "DON'T MODIFY ANYTHING IN THIS CELL THAT IS BELOW THIS LINE\n",
    "\"\"\"\n",
    "tf.reset_default_graph()\n",
    "tests.test_nn_image_inputs(neural_net_image_input)\n",
    "tests.test_nn_label_inputs(neural_net_label_input)\n",
    "tests.test_nn_keep_prob_inputs(neural_net_keep_prob_input)"
   ]
  },
  {
   "cell_type": "markdown",
   "metadata": {},
   "source": [
    "### Convolution and Max Pooling Layer\n",
    "Convolution layers have a lot of success with images. For this code cell, you should implement the function `conv2d_maxpool` to apply convolution then max pooling:\n",
    "* Create the weight and bias using `conv_ksize`, `conv_num_outputs` and the shape of `x_tensor`.\n",
    "* Apply a convolution to `x_tensor` using weight and `conv_strides`.\n",
    " * We recommend you use same padding, but you're welcome to use any padding.\n",
    "* Add bias\n",
    "* Add a nonlinear activation to the convolution.\n",
    "* Apply Max Pooling using `pool_ksize` and `pool_strides`.\n",
    " * We recommend you use same padding, but you're welcome to use any padding.\n",
    "\n",
    "**Note:** You **can't** use [TensorFlow Layers](https://www.tensorflow.org/api_docs/python/tf/layers) or [TensorFlow Layers (contrib)](https://www.tensorflow.org/api_guides/python/contrib.layers) for **this** layer, but you can still use TensorFlow's [Neural Network](https://www.tensorflow.org/api_docs/python/tf/nn) package. You may still use the shortcut option for all the **other** layers."
   ]
  },
  {
   "cell_type": "code",
   "execution_count": 10,
   "metadata": {
    "collapsed": false
   },
   "outputs": [
    {
     "name": "stdout",
     "output_type": "stream",
     "text": [
      "Tests Passed\n"
     ]
    }
   ],
   "source": [
    "def conv2d_maxpool(x_tensor, conv_num_outputs, conv_ksize, conv_strides, pool_ksize, pool_strides):\n",
    "    \"\"\"\n",
    "    Apply convolution then max pooling to x_tensor\n",
    "    :param x_tensor: TensorFlow Tensor\n",
    "    :param conv_num_outputs: Number of outputs for the convolutional layer\n",
    "    :param conv_ksize: kernal size 2-D Tuple for the convolutional layer\n",
    "    :param conv_strides: Stride 2-D Tuple for convolution\n",
    "    :param pool_ksize: kernal size 2-D Tuple for pool\n",
    "    :param pool_strides: Stride 2-D Tuple for pool\n",
    "    : return: A tensor that represents convolution and max pooling of x_tensor\n",
    "    \"\"\"\n",
    "    # TODO: Implement Function\n",
    "    shape = x_tensor.get_shape().as_list()[3]\n",
    "    weight = tf.Variable(tf.truncated_normal([*conv_ksize, shape, conv_num_outputs], \\\n",
    "                                             mean=0.0, stddev=0.05, dtype=tf.float32), name='weight')\n",
    "    bias   = tf.Variable(tf.zeros(conv_num_outputs))\n",
    "    conv_layer = tf.nn.conv2d(x_tensor, weight, strides=[1,conv_strides[0],conv_strides[1],1], padding = 'SAME')\n",
    "    #the type of `bias` is allowed to differ from `value` in the case where both types are quantized.\n",
    "    conv_layer = tf.nn.bias_add(conv_layer, bias)\n",
    "    conv_layer = tf.nn.relu(conv_layer)\n",
    "    # ksize & strides correspond to a list [batch, height, width, channels], batch & channel usually set to 1\n",
    "    conv_layer = tf.nn.max_pool(conv_layer, ksize=[1, pool_ksize[0], pool_ksize[1],1], strides=[1, \\\n",
    "                                pool_strides[0], pool_strides[1], 1],padding='SAME')\n",
    "    \n",
    "    return conv_layer \n",
    "\n",
    "\n",
    "\"\"\"\n",
    "DON'T MODIFY ANYTHING IN THIS CELL THAT IS BELOW THIS LINE\n",
    "\"\"\"\n",
    "tests.test_con_pool(conv2d_maxpool)"
   ]
  },
  {
   "cell_type": "markdown",
   "metadata": {},
   "source": [
    "### Flatten Layer\n",
    "Implement the `flatten` function to change the dimension of `x_tensor` from a 4-D tensor to a 2-D tensor.  The output should be the shape (*Batch Size*, *Flattened Image Size*). Shortcut option: you can use classes from the [TensorFlow Layers](https://www.tensorflow.org/api_docs/python/tf/layers) or [TensorFlow Layers (contrib)](https://www.tensorflow.org/api_guides/python/contrib.layers) packages for this layer. For more of a challenge, only use other TensorFlow packages."
   ]
  },
  {
   "cell_type": "code",
   "execution_count": 11,
   "metadata": {
    "collapsed": false
   },
   "outputs": [
    {
     "name": "stdout",
     "output_type": "stream",
     "text": [
      "Tests Passed\n"
     ]
    }
   ],
   "source": [
    "def flatten(x_tensor):\n",
    "    \"\"\"\n",
    "    Flatten x_tensor to (Batch Size, Flattened Image Size)\n",
    "    : x_tensor: A tensor of size (Batch Size, ...), where ... are the image dimensions.\n",
    "    : return: A tensor of size (Batch Size, Flattened Image Size).\n",
    "    \"\"\"\n",
    "    # TODO: Implement Function\n",
    "    # If one component of shape is the special value -1, the size of that dimension is computed \n",
    "    # so that the total size remains constant. In particular, a shape of [-1] flattens into 1-D. \n",
    "    # At most one component of shape can be -1\n",
    "    \n",
    "    shape = x_tensor.get_shape().as_list()\n",
    "    flat = tf.reshape(x_tensor, shape=(-1, shape[1] * shape[2] * shape[3]))\n",
    "    return flat\n",
    "\n",
    "\n",
    "\"\"\"\n",
    "DON'T MODIFY ANYTHING IN THIS CELL THAT IS BELOW THIS LINE\n",
    "\"\"\"\n",
    "tests.test_flatten(flatten)"
   ]
  },
  {
   "cell_type": "markdown",
   "metadata": {},
   "source": [
    "### Fully-Connected Layer\n",
    "Implement the `fully_conn` function to apply a fully connected layer to `x_tensor` with the shape (*Batch Size*, *num_outputs*). Shortcut option: you can use classes from the [TensorFlow Layers](https://www.tensorflow.org/api_docs/python/tf/layers) or [TensorFlow Layers (contrib)](https://www.tensorflow.org/api_guides/python/contrib.layers) packages for this layer. For more of a challenge, only use other TensorFlow packages."
   ]
  },
  {
   "cell_type": "code",
   "execution_count": 12,
   "metadata": {
    "collapsed": false
   },
   "outputs": [
    {
     "name": "stdout",
     "output_type": "stream",
     "text": [
      "Tests Passed\n"
     ]
    }
   ],
   "source": [
    "def fully_conn(x_tensor, num_outputs):\n",
    "    \"\"\"\n",
    "    Apply a fully connected layer to x_tensor using weight and bias\n",
    "    : x_tensor: A 2-D tensor where the first dimension is batch size.\n",
    "    : num_outputs: The number of output that the new tensor should be.\n",
    "    : return: A 2-D tensor where the second dimension is num_outputs.\n",
    "    \"\"\"\n",
    "    # TODO: Implement Function\n",
    "    shape = x_tensor.get_shape().as_list()\n",
    "    weights = tf.Variable(tf.truncated_normal([shape[1], num_outputs], mean=0.0, stddev=0.1))\n",
    "    bias = tf.Variable(tf.zeros(num_outputs))\n",
    "    fully_connected = tf.add(tf.matmul(x_tensor, weights), bias)\n",
    "    #I activate fully_conn in \"Create Convolutional Model\" part\n",
    "    return fully_connected\n",
    "\n",
    "\n",
    "\"\"\"\n",
    "DON'T MODIFY ANYTHING IN THIS CELL THAT IS BELOW THIS LINE\n",
    "\"\"\"\n",
    "tests.test_fully_conn(fully_conn)"
   ]
  },
  {
   "cell_type": "markdown",
   "metadata": {},
   "source": [
    "### Output Layer\n",
    "Implement the `output` function to apply a fully connected layer to `x_tensor` with the shape (*Batch Size*, *num_outputs*). Shortcut option: you can use classes from the [TensorFlow Layers](https://www.tensorflow.org/api_docs/python/tf/layers) or [TensorFlow Layers (contrib)](https://www.tensorflow.org/api_guides/python/contrib.layers) packages for this layer. For more of a challenge, only use other TensorFlow packages.\n",
    "\n",
    "**Note:** Activation, softmax, or cross entropy should **not** be applied to this."
   ]
  },
  {
   "cell_type": "code",
   "execution_count": 13,
   "metadata": {
    "collapsed": false
   },
   "outputs": [
    {
     "name": "stdout",
     "output_type": "stream",
     "text": [
      "Tests Passed\n"
     ]
    }
   ],
   "source": [
    "def output(x_tensor, num_outputs):\n",
    "    \"\"\"\n",
    "    Apply a output layer to x_tensor using weight and bias\n",
    "    : x_tensor: A 2-D tensor where the first dimension is batch size.\n",
    "    : num_outputs: The number of output that the new tensor should be.\n",
    "    : return: A 2-D tensor where the second dimension is num_outputs.\n",
    "    \"\"\"\n",
    "    # TODO: Implement Function\n",
    "    shape = x_tensor.get_shape().as_list()\n",
    "    weights = tf.Variable(tf.truncated_normal([shape[1], num_outputs], stddev=0.1))\n",
    "    bias = tf.Variable(tf.zeros(num_outputs))\n",
    "    output = tf.add(tf.matmul(x_tensor, weights), bias)\n",
    "    return output\n",
    "\n",
    "\n",
    "\"\"\"\n",
    "DON'T MODIFY ANYTHING IN THIS CELL THAT IS BELOW THIS LINE\n",
    "\"\"\"\n",
    "tests.test_output(output)"
   ]
  },
  {
   "cell_type": "markdown",
   "metadata": {},
   "source": [
    "### Create Convolutional Model\n",
    "Implement the function `conv_net` to create a convolutional neural network model. The function takes in a batch of images, `x`, and outputs logits.  Use the layers you created above to create this model:\n",
    "\n",
    "* Apply 1, 2, or 3 Convolution and Max Pool layers\n",
    "* Apply a Flatten Layer\n",
    "* Apply 1, 2, or 3 Fully Connected Layers\n",
    "* Apply an Output Layer\n",
    "* Return the output\n",
    "* Apply [TensorFlow's Dropout](https://www.tensorflow.org/api_docs/python/tf/nn/dropout) to one or more layers in the model using `keep_prob`. "
   ]
  },
  {
   "cell_type": "code",
   "execution_count": 14,
   "metadata": {
    "collapsed": false
   },
   "outputs": [
    {
     "name": "stdout",
     "output_type": "stream",
     "text": [
      "Neural Network Built!\n"
     ]
    }
   ],
   "source": [
    "def conv_net(x, keep_prob):\n",
    "    \"\"\"\n",
    "    Create a convolutional neural network model\n",
    "    : x: Placeholder tensor that holds image data.\n",
    "    : keep_prob: Placeholder tensor that hold dropout keep probability.\n",
    "    : return: Tensor that represents logits\n",
    "    \"\"\"\n",
    "    # TODO: Apply 1, 2, or 3 Convolution and Max Pool layers\n",
    "    #    Play around with different number of outputs, kernel size and stride\n",
    "    # Function Definition from Above:\n",
    "    #    conv2d_maxpool(x_tensor, conv_num_outputs, conv_ksize, conv_strides, pool_ksize, pool_strides)\n",
    "    \n",
    "    # After few trial of different pattern, I find this 2 layer conv structure is computaionally\n",
    "    # cheap and converage fast, while too many nodes in just 1 layer like my previous submission leads to\n",
    "    # overfitting; too less nodes leads to underfitting with a bottom neck of 45% accuracy.\n",
    "    conv1 = conv2d_maxpool(x, 36, [3,3],[2,2],[2,2],[2,2])\n",
    "    conv2 = conv2d_maxpool(conv1, 108, [3,3],[2,2],[2,2],[2,2])\n",
    "\n",
    "    # TODO: Apply a Flatten Layer\n",
    "    # Function Definition from Above:\n",
    "    #   flatten(x_tensor)\n",
    "    flat = flatten(conv2)\n",
    "    flat = tf.nn.dropout(flat, keep_prob)\n",
    "    \n",
    "\n",
    "    # TODO: Apply 1, 2, or 3 Fully Connected Layers\n",
    "    #    Play around with different number of outputs\n",
    "    # Function Definition from Above:\n",
    "    #   fully_conn(x_tensor, num_outputs)\n",
    "    \n",
    "    full_con1 = fully_conn(flat, 256)\n",
    "    full_con1 = tf.nn.dropout(full_con1, keep_prob)\n",
    "    full_con1 = tf.nn.relu(full_con1)\n",
    "    #  /|\\\n",
    "    #  |    \n",
    "    # |  I activate fully_conn here\n",
    "    \n",
    "    # TODO: Apply an Output Layer\n",
    "    #    Set this to the number of classes\n",
    "    # Function Definition from Above:\n",
    "    #   output(x_tensor, num_outputs)\n",
    "    out = output(full_con1, 10)\n",
    "    # TODO: return output\n",
    "    return out\n",
    "\"\"\"\n",
    "DON'T MODIFY ANYTHING IN THIS CELL THAT IS BELOW THIS LINE\n",
    "\"\"\"\n",
    "\n",
    "##############################\n",
    "## Build the Neural Network ##\n",
    "##############################\n",
    "\n",
    "# Remove previous weights, bias, inputs, etc..\n",
    "tf.reset_default_graph()\n",
    "\n",
    "# Inputs\n",
    "x = neural_net_image_input((32, 32, 3))\n",
    "y = neural_net_label_input(10)\n",
    "keep_prob = neural_net_keep_prob_input()\n",
    "\n",
    "# Model\n",
    "logits = conv_net(x, keep_prob)\n",
    "\n",
    "# Name logits Tensor, so that is can be loaded from disk after training\n",
    "logits = tf.identity(logits, name='logits')\n",
    "\n",
    "# Loss and Optimizer\n",
    "cost = tf.reduce_mean(tf.nn.softmax_cross_entropy_with_logits(logits=logits, labels=y))\n",
    "optimizer = tf.train.AdamOptimizer().minimize(cost)\n",
    "\n",
    "# Accuracy\n",
    "correct_pred = tf.equal(tf.argmax(logits, 1), tf.argmax(y, 1))\n",
    "accuracy = tf.reduce_mean(tf.cast(correct_pred, tf.float32), name='accuracy')\n",
    "\n",
    "tests.test_conv_net(conv_net)"
   ]
  },
  {
   "cell_type": "markdown",
   "metadata": {},
   "source": [
    "## Train the Neural Network\n",
    "### Single Optimization\n",
    "Implement the function `train_neural_network` to do a single optimization.  The optimization should use `optimizer` to optimize in `session` with a `feed_dict` of the following:\n",
    "* `x` for image input\n",
    "* `y` for labels\n",
    "* `keep_prob` for keep probability for dropout\n",
    "\n",
    "This function will be called for each batch, so `tf.global_variables_initializer()` has already been called.\n",
    "\n",
    "Note: Nothing needs to be returned. This function is only optimizing the neural network."
   ]
  },
  {
   "cell_type": "code",
   "execution_count": 15,
   "metadata": {
    "collapsed": false
   },
   "outputs": [
    {
     "name": "stdout",
     "output_type": "stream",
     "text": [
      "Tests Passed\n"
     ]
    }
   ],
   "source": [
    "def train_neural_network(session, optimizer, keep_probability, feature_batch, label_batch):\n",
    "    \"\"\"\n",
    "    Optimize the session on a batch of images and labels\n",
    "    : session: Current TensorFlow session\n",
    "    : optimizer: TensorFlow optimizer function\n",
    "    : keep_probability: keep probability\n",
    "    : feature_batch: Batch of Numpy image data\n",
    "    : label_batch: Batch of Numpy label data\n",
    "    \"\"\"\n",
    "    # TODO: Implement Function\n",
    "    session.run(optimizer, feed_dict = {keep_prob: keep_probability,x: feature_batch, y: label_batch})\n",
    "\n",
    "\"\"\"\n",
    "DON'T MODIFY ANYTHING IN THIS CELL THAT IS BELOW THIS LINE\n",
    "\"\"\"\n",
    "tests.test_train_nn(train_neural_network)"
   ]
  },
  {
   "cell_type": "markdown",
   "metadata": {},
   "source": [
    "### Show Stats\n",
    "Implement the function `print_stats` to print loss and validation accuracy.  Use the global variables `valid_features` and `valid_labels` to calculate validation accuracy.  Use a keep probability of `1.0` to calculate the loss and validation accuracy."
   ]
  },
  {
   "cell_type": "code",
   "execution_count": 16,
   "metadata": {
    "collapsed": false
   },
   "outputs": [],
   "source": [
    "def print_stats(session, feature_batch, label_batch, cost, accuracy):\n",
    "    \"\"\"\n",
    "    Print information about loss and validation accuracy\n",
    "    : session: Current TensorFlow session\n",
    "    : feature_batch: Batch of Numpy image data\n",
    "    : label_batch: Batch of Numpy label data\n",
    "    : cost: TensorFlow cost function\n",
    "    : accuracy: TensorFlow accuracy function\n",
    "    \"\"\"\n",
    "    # TODO: Implement Function\n",
    "    loss = session.run(cost,feed_dict={x: feature_batch, y: label_batch, keep_prob: 1.0})\n",
    "    acc = session.run(accuracy, feed_dict={x: valid_features,y: valid_labels, keep_prob:1.0})\n",
    "    print('Loss: {:.4f}  Validation Accuracy: {:.2f}%'.format(loss, acc*100))"
   ]
  },
  {
   "cell_type": "markdown",
   "metadata": {},
   "source": [
    "### Hyperparameters\n",
    "Tune the following parameters:\n",
    "* Set `epochs` to the number of iterations until the network stops learning or start overfitting\n",
    "* Set `batch_size` to the highest number that your machine has memory for.  Most people set them to common sizes of memory:\n",
    " * 64\n",
    " * 128\n",
    " * 256\n",
    " * ...\n",
    "* Set `keep_probability` to the probability of keeping a node using dropout"
   ]
  },
  {
   "cell_type": "code",
   "execution_count": 17,
   "metadata": {
    "collapsed": true
   },
   "outputs": [],
   "source": [
    "# TODO: Tune Parameters\n",
    "epochs = 35\n",
    "batch_size = 512\n",
    "keep_probability = 0.75"
   ]
  },
  {
   "cell_type": "markdown",
   "metadata": {},
   "source": [
    "### Train on a Single CIFAR-10 Batch\n",
    "Instead of training the neural network on all the CIFAR-10 batches of data, let's use a single batch. This should save time while you iterate on the model to get a better accuracy.  Once the final validation accuracy is 50% or greater, run the model on all the data in the next section."
   ]
  },
  {
   "cell_type": "code",
   "execution_count": 18,
   "metadata": {
    "collapsed": false,
    "scrolled": false
   },
   "outputs": [
    {
     "name": "stdout",
     "output_type": "stream",
     "text": [
      "Checking the Training on a Single Batch...\n",
      "Epoch  1, CIFAR-10 Batch 1:  Loss: 2.2038  Validation Accuracy: 21.48%\n",
      "Epoch  2, CIFAR-10 Batch 1:  Loss: 1.9916  Validation Accuracy: 30.68%\n",
      "Epoch  3, CIFAR-10 Batch 1:  Loss: 1.8733  Validation Accuracy: 35.32%\n",
      "Epoch  4, CIFAR-10 Batch 1:  Loss: 1.8027  Validation Accuracy: 37.72%\n",
      "Epoch  5, CIFAR-10 Batch 1:  Loss: 1.7440  Validation Accuracy: 41.08%\n",
      "Epoch  6, CIFAR-10 Batch 1:  Loss: 1.6850  Validation Accuracy: 41.78%\n",
      "Epoch  7, CIFAR-10 Batch 1:  Loss: 1.6340  Validation Accuracy: 43.48%\n",
      "Epoch  8, CIFAR-10 Batch 1:  Loss: 1.5749  Validation Accuracy: 44.66%\n",
      "Epoch  9, CIFAR-10 Batch 1:  Loss: 1.5390  Validation Accuracy: 44.76%\n",
      "Epoch 10, CIFAR-10 Batch 1:  Loss: 1.5002  Validation Accuracy: 46.08%\n",
      "Epoch 11, CIFAR-10 Batch 1:  Loss: 1.4659  Validation Accuracy: 47.72%\n",
      "Epoch 12, CIFAR-10 Batch 1:  Loss: 1.4227  Validation Accuracy: 48.54%\n",
      "Epoch 13, CIFAR-10 Batch 1:  Loss: 1.3971  Validation Accuracy: 49.24%\n",
      "Epoch 14, CIFAR-10 Batch 1:  Loss: 1.3767  Validation Accuracy: 50.24%\n",
      "Epoch 15, CIFAR-10 Batch 1:  Loss: 1.3357  Validation Accuracy: 49.96%\n",
      "Epoch 16, CIFAR-10 Batch 1:  Loss: 1.3206  Validation Accuracy: 50.88%\n",
      "Epoch 17, CIFAR-10 Batch 1:  Loss: 1.2948  Validation Accuracy: 50.62%\n",
      "Epoch 18, CIFAR-10 Batch 1:  Loss: 1.2603  Validation Accuracy: 51.32%\n",
      "Epoch 19, CIFAR-10 Batch 1:  Loss: 1.2383  Validation Accuracy: 51.78%\n",
      "Epoch 20, CIFAR-10 Batch 1:  Loss: 1.2069  Validation Accuracy: 52.46%\n",
      "Epoch 21, CIFAR-10 Batch 1:  Loss: 1.1963  Validation Accuracy: 53.06%\n",
      "Epoch 22, CIFAR-10 Batch 1:  Loss: 1.1710  Validation Accuracy: 53.46%\n",
      "Epoch 23, CIFAR-10 Batch 1:  Loss: 1.1664  Validation Accuracy: 54.18%\n",
      "Epoch 24, CIFAR-10 Batch 1:  Loss: 1.1263  Validation Accuracy: 54.42%\n",
      "Epoch 25, CIFAR-10 Batch 1:  Loss: 1.1169  Validation Accuracy: 54.56%\n",
      "Epoch 26, CIFAR-10 Batch 1:  Loss: 1.0840  Validation Accuracy: 54.82%\n",
      "Epoch 27, CIFAR-10 Batch 1:  Loss: 1.0680  Validation Accuracy: 54.80%\n",
      "Epoch 28, CIFAR-10 Batch 1:  Loss: 1.0549  Validation Accuracy: 55.44%\n",
      "Epoch 29, CIFAR-10 Batch 1:  Loss: 1.0303  Validation Accuracy: 55.36%\n",
      "Epoch 30, CIFAR-10 Batch 1:  Loss: 1.0330  Validation Accuracy: 54.64%\n",
      "Epoch 31, CIFAR-10 Batch 1:  Loss: 0.9964  Validation Accuracy: 55.96%\n",
      "Epoch 32, CIFAR-10 Batch 1:  Loss: 0.9765  Validation Accuracy: 55.92%\n",
      "Epoch 33, CIFAR-10 Batch 1:  Loss: 0.9669  Validation Accuracy: 56.36%\n",
      "Epoch 34, CIFAR-10 Batch 1:  Loss: 0.9558  Validation Accuracy: 56.16%\n",
      "Epoch 35, CIFAR-10 Batch 1:  Loss: 0.9330  Validation Accuracy: 56.30%\n"
     ]
    }
   ],
   "source": [
    "\"\"\"\n",
    "DON'T MODIFY ANYTHING IN THIS CELL\n",
    "\"\"\"\n",
    "print('Checking the Training on a Single Batch...')\n",
    "with tf.Session() as sess:\n",
    "    # Initializing the variables\n",
    "    sess.run(tf.global_variables_initializer())\n",
    "    \n",
    "    # Training cycle\n",
    "    for epoch in range(epochs):\n",
    "        batch_i = 1\n",
    "        for batch_features, batch_labels in helper.load_preprocess_training_batch(batch_i, batch_size):\n",
    "            train_neural_network(sess, optimizer, keep_probability, batch_features, batch_labels)\n",
    "        print('Epoch {:>2}, CIFAR-10 Batch {}:  '.format(epoch + 1, batch_i), end='')\n",
    "        print_stats(sess, batch_features, batch_labels, cost, accuracy)"
   ]
  },
  {
   "cell_type": "markdown",
   "metadata": {},
   "source": [
    "### Fully Train the Model\n",
    "Now that you got a good accuracy with a single CIFAR-10 batch, try it with all five batches."
   ]
  },
  {
   "cell_type": "code",
   "execution_count": 19,
   "metadata": {
    "collapsed": false,
    "scrolled": false
   },
   "outputs": [
    {
     "name": "stdout",
     "output_type": "stream",
     "text": [
      "Training...\n",
      "Epoch  1, CIFAR-10 Batch 1:  Loss: 2.1570  Validation Accuracy: 22.90%\n",
      "Epoch  1, CIFAR-10 Batch 2:  Loss: 1.9146  Validation Accuracy: 30.90%\n",
      "Epoch  1, CIFAR-10 Batch 3:  Loss: 1.7452  Validation Accuracy: 34.88%\n",
      "Epoch  1, CIFAR-10 Batch 4:  Loss: 1.6804  Validation Accuracy: 38.50%\n",
      "Epoch  1, CIFAR-10 Batch 5:  Loss: 1.7006  Validation Accuracy: 39.20%\n",
      "Epoch  2, CIFAR-10 Batch 1:  Loss: 1.7025  Validation Accuracy: 40.96%\n",
      "Epoch  2, CIFAR-10 Batch 2:  Loss: 1.5851  Validation Accuracy: 43.86%\n",
      "Epoch  2, CIFAR-10 Batch 3:  Loss: 1.4081  Validation Accuracy: 43.76%\n",
      "Epoch  2, CIFAR-10 Batch 4:  Loss: 1.4569  Validation Accuracy: 45.18%\n",
      "Epoch  2, CIFAR-10 Batch 5:  Loss: 1.5236  Validation Accuracy: 44.92%\n",
      "Epoch  3, CIFAR-10 Batch 1:  Loss: 1.5344  Validation Accuracy: 47.74%\n",
      "Epoch  3, CIFAR-10 Batch 2:  Loss: 1.4366  Validation Accuracy: 48.70%\n",
      "Epoch  3, CIFAR-10 Batch 3:  Loss: 1.2508  Validation Accuracy: 48.62%\n",
      "Epoch  3, CIFAR-10 Batch 4:  Loss: 1.3469  Validation Accuracy: 48.62%\n",
      "Epoch  3, CIFAR-10 Batch 5:  Loss: 1.4107  Validation Accuracy: 48.96%\n",
      "Epoch  4, CIFAR-10 Batch 1:  Loss: 1.4425  Validation Accuracy: 50.34%\n",
      "Epoch  4, CIFAR-10 Batch 2:  Loss: 1.3692  Validation Accuracy: 50.68%\n",
      "Epoch  4, CIFAR-10 Batch 3:  Loss: 1.1753  Validation Accuracy: 51.16%\n",
      "Epoch  4, CIFAR-10 Batch 4:  Loss: 1.2420  Validation Accuracy: 52.52%\n",
      "Epoch  4, CIFAR-10 Batch 5:  Loss: 1.3362  Validation Accuracy: 51.50%\n",
      "Epoch  5, CIFAR-10 Batch 1:  Loss: 1.3814  Validation Accuracy: 53.40%\n",
      "Epoch  5, CIFAR-10 Batch 2:  Loss: 1.2760  Validation Accuracy: 53.88%\n",
      "Epoch  5, CIFAR-10 Batch 3:  Loss: 1.1234  Validation Accuracy: 53.36%\n",
      "Epoch  5, CIFAR-10 Batch 4:  Loss: 1.1763  Validation Accuracy: 54.70%\n",
      "Epoch  5, CIFAR-10 Batch 5:  Loss: 1.2662  Validation Accuracy: 53.86%\n",
      "Epoch  6, CIFAR-10 Batch 1:  Loss: 1.3371  Validation Accuracy: 54.68%\n",
      "Epoch  6, CIFAR-10 Batch 2:  Loss: 1.2222  Validation Accuracy: 54.96%\n",
      "Epoch  6, CIFAR-10 Batch 3:  Loss: 1.0820  Validation Accuracy: 55.10%\n",
      "Epoch  6, CIFAR-10 Batch 4:  Loss: 1.1158  Validation Accuracy: 56.12%\n",
      "Epoch  6, CIFAR-10 Batch 5:  Loss: 1.2121  Validation Accuracy: 55.28%\n",
      "Epoch  7, CIFAR-10 Batch 1:  Loss: 1.2675  Validation Accuracy: 56.62%\n",
      "Epoch  7, CIFAR-10 Batch 2:  Loss: 1.1612  Validation Accuracy: 56.70%\n",
      "Epoch  7, CIFAR-10 Batch 3:  Loss: 1.0656  Validation Accuracy: 56.30%\n",
      "Epoch  7, CIFAR-10 Batch 4:  Loss: 1.0739  Validation Accuracy: 57.58%\n",
      "Epoch  7, CIFAR-10 Batch 5:  Loss: 1.1676  Validation Accuracy: 56.88%\n",
      "Epoch  8, CIFAR-10 Batch 1:  Loss: 1.2368  Validation Accuracy: 57.50%\n",
      "Epoch  8, CIFAR-10 Batch 2:  Loss: 1.1059  Validation Accuracy: 58.14%\n",
      "Epoch  8, CIFAR-10 Batch 3:  Loss: 1.0195  Validation Accuracy: 57.48%\n",
      "Epoch  8, CIFAR-10 Batch 4:  Loss: 1.0228  Validation Accuracy: 58.68%\n",
      "Epoch  8, CIFAR-10 Batch 5:  Loss: 1.1123  Validation Accuracy: 58.08%\n",
      "Epoch  9, CIFAR-10 Batch 1:  Loss: 1.1953  Validation Accuracy: 58.20%\n",
      "Epoch  9, CIFAR-10 Batch 2:  Loss: 1.0797  Validation Accuracy: 58.84%\n",
      "Epoch  9, CIFAR-10 Batch 3:  Loss: 0.9901  Validation Accuracy: 58.46%\n",
      "Epoch  9, CIFAR-10 Batch 4:  Loss: 0.9774  Validation Accuracy: 59.52%\n",
      "Epoch  9, CIFAR-10 Batch 5:  Loss: 1.0776  Validation Accuracy: 58.70%\n",
      "Epoch 10, CIFAR-10 Batch 1:  Loss: 1.1556  Validation Accuracy: 59.68%\n",
      "Epoch 10, CIFAR-10 Batch 2:  Loss: 1.0296  Validation Accuracy: 59.28%\n",
      "Epoch 10, CIFAR-10 Batch 3:  Loss: 0.9526  Validation Accuracy: 59.38%\n",
      "Epoch 10, CIFAR-10 Batch 4:  Loss: 0.9560  Validation Accuracy: 60.60%\n",
      "Epoch 10, CIFAR-10 Batch 5:  Loss: 1.0438  Validation Accuracy: 59.32%\n",
      "Epoch 11, CIFAR-10 Batch 1:  Loss: 1.1120  Validation Accuracy: 60.94%\n",
      "Epoch 11, CIFAR-10 Batch 2:  Loss: 1.0097  Validation Accuracy: 59.70%\n",
      "Epoch 11, CIFAR-10 Batch 3:  Loss: 0.9205  Validation Accuracy: 60.24%\n",
      "Epoch 11, CIFAR-10 Batch 4:  Loss: 0.9161  Validation Accuracy: 60.90%\n",
      "Epoch 11, CIFAR-10 Batch 5:  Loss: 1.0134  Validation Accuracy: 60.34%\n",
      "Epoch 12, CIFAR-10 Batch 1:  Loss: 1.0786  Validation Accuracy: 61.14%\n",
      "Epoch 12, CIFAR-10 Batch 2:  Loss: 0.9860  Validation Accuracy: 61.06%\n",
      "Epoch 12, CIFAR-10 Batch 3:  Loss: 0.9031  Validation Accuracy: 60.74%\n",
      "Epoch 12, CIFAR-10 Batch 4:  Loss: 0.8868  Validation Accuracy: 61.98%\n",
      "Epoch 12, CIFAR-10 Batch 5:  Loss: 0.9848  Validation Accuracy: 60.64%\n",
      "Epoch 13, CIFAR-10 Batch 1:  Loss: 1.0441  Validation Accuracy: 61.84%\n",
      "Epoch 13, CIFAR-10 Batch 2:  Loss: 0.9433  Validation Accuracy: 60.58%\n",
      "Epoch 13, CIFAR-10 Batch 3:  Loss: 0.8636  Validation Accuracy: 61.74%\n",
      "Epoch 13, CIFAR-10 Batch 4:  Loss: 0.8651  Validation Accuracy: 62.08%\n",
      "Epoch 13, CIFAR-10 Batch 5:  Loss: 0.9570  Validation Accuracy: 61.28%\n",
      "Epoch 14, CIFAR-10 Batch 1:  Loss: 1.0030  Validation Accuracy: 62.56%\n",
      "Epoch 14, CIFAR-10 Batch 2:  Loss: 0.9213  Validation Accuracy: 61.74%\n",
      "Epoch 14, CIFAR-10 Batch 3:  Loss: 0.8449  Validation Accuracy: 62.48%\n",
      "Epoch 14, CIFAR-10 Batch 4:  Loss: 0.8375  Validation Accuracy: 63.02%\n",
      "Epoch 14, CIFAR-10 Batch 5:  Loss: 0.9190  Validation Accuracy: 61.90%\n",
      "Epoch 15, CIFAR-10 Batch 1:  Loss: 0.9838  Validation Accuracy: 62.54%\n",
      "Epoch 15, CIFAR-10 Batch 2:  Loss: 0.8926  Validation Accuracy: 62.22%\n",
      "Epoch 15, CIFAR-10 Batch 3:  Loss: 0.8283  Validation Accuracy: 62.58%\n",
      "Epoch 15, CIFAR-10 Batch 4:  Loss: 0.8077  Validation Accuracy: 63.52%\n",
      "Epoch 15, CIFAR-10 Batch 5:  Loss: 0.8804  Validation Accuracy: 62.76%\n",
      "Epoch 16, CIFAR-10 Batch 1:  Loss: 0.9501  Validation Accuracy: 63.76%\n",
      "Epoch 16, CIFAR-10 Batch 2:  Loss: 0.8647  Validation Accuracy: 62.30%\n",
      "Epoch 16, CIFAR-10 Batch 3:  Loss: 0.8193  Validation Accuracy: 63.70%\n",
      "Epoch 16, CIFAR-10 Batch 4:  Loss: 0.8040  Validation Accuracy: 63.68%\n",
      "Epoch 16, CIFAR-10 Batch 5:  Loss: 0.8860  Validation Accuracy: 62.62%\n",
      "Epoch 17, CIFAR-10 Batch 1:  Loss: 0.9410  Validation Accuracy: 63.40%\n",
      "Epoch 17, CIFAR-10 Batch 2:  Loss: 0.8499  Validation Accuracy: 62.06%\n",
      "Epoch 17, CIFAR-10 Batch 3:  Loss: 0.7883  Validation Accuracy: 63.34%\n",
      "Epoch 17, CIFAR-10 Batch 4:  Loss: 0.7764  Validation Accuracy: 64.12%\n",
      "Epoch 17, CIFAR-10 Batch 5:  Loss: 0.8512  Validation Accuracy: 62.32%\n",
      "Epoch 18, CIFAR-10 Batch 1:  Loss: 0.9175  Validation Accuracy: 63.70%\n",
      "Epoch 18, CIFAR-10 Batch 2:  Loss: 0.8420  Validation Accuracy: 61.60%\n",
      "Epoch 18, CIFAR-10 Batch 3:  Loss: 0.8139  Validation Accuracy: 63.58%\n",
      "Epoch 18, CIFAR-10 Batch 4:  Loss: 0.7595  Validation Accuracy: 64.04%\n",
      "Epoch 18, CIFAR-10 Batch 5:  Loss: 0.8253  Validation Accuracy: 63.92%\n",
      "Epoch 19, CIFAR-10 Batch 1:  Loss: 0.8871  Validation Accuracy: 64.10%\n",
      "Epoch 19, CIFAR-10 Batch 2:  Loss: 0.8529  Validation Accuracy: 60.74%\n",
      "Epoch 19, CIFAR-10 Batch 3:  Loss: 0.7828  Validation Accuracy: 63.68%\n",
      "Epoch 19, CIFAR-10 Batch 4:  Loss: 0.7430  Validation Accuracy: 64.78%\n",
      "Epoch 19, CIFAR-10 Batch 5:  Loss: 0.8212  Validation Accuracy: 63.22%\n",
      "Epoch 20, CIFAR-10 Batch 1:  Loss: 0.8738  Validation Accuracy: 63.94%\n",
      "Epoch 20, CIFAR-10 Batch 2:  Loss: 0.8029  Validation Accuracy: 62.16%\n",
      "Epoch 20, CIFAR-10 Batch 3:  Loss: 0.7508  Validation Accuracy: 64.40%\n",
      "Epoch 20, CIFAR-10 Batch 4:  Loss: 0.7130  Validation Accuracy: 64.84%\n",
      "Epoch 20, CIFAR-10 Batch 5:  Loss: 0.8013  Validation Accuracy: 63.86%\n",
      "Epoch 21, CIFAR-10 Batch 1:  Loss: 0.8433  Validation Accuracy: 64.50%\n",
      "Epoch 21, CIFAR-10 Batch 2:  Loss: 0.7927  Validation Accuracy: 61.90%\n",
      "Epoch 21, CIFAR-10 Batch 3:  Loss: 0.7263  Validation Accuracy: 65.40%\n",
      "Epoch 21, CIFAR-10 Batch 4:  Loss: 0.7105  Validation Accuracy: 65.26%\n",
      "Epoch 21, CIFAR-10 Batch 5:  Loss: 0.7789  Validation Accuracy: 64.08%\n",
      "Epoch 22, CIFAR-10 Batch 1:  Loss: 0.8375  Validation Accuracy: 65.18%\n",
      "Epoch 22, CIFAR-10 Batch 2:  Loss: 0.7586  Validation Accuracy: 63.46%\n",
      "Epoch 22, CIFAR-10 Batch 3:  Loss: 0.7026  Validation Accuracy: 65.32%\n",
      "Epoch 22, CIFAR-10 Batch 4:  Loss: 0.6943  Validation Accuracy: 64.92%\n",
      "Epoch 22, CIFAR-10 Batch 5:  Loss: 0.7567  Validation Accuracy: 64.46%\n",
      "Epoch 23, CIFAR-10 Batch 1:  Loss: 0.8146  Validation Accuracy: 64.96%\n",
      "Epoch 23, CIFAR-10 Batch 2:  Loss: 0.7432  Validation Accuracy: 63.66%\n",
      "Epoch 23, CIFAR-10 Batch 3:  Loss: 0.7099  Validation Accuracy: 65.76%\n",
      "Epoch 23, CIFAR-10 Batch 4:  Loss: 0.6845  Validation Accuracy: 65.58%\n",
      "Epoch 23, CIFAR-10 Batch 5:  Loss: 0.7452  Validation Accuracy: 65.10%\n",
      "Epoch 24, CIFAR-10 Batch 1:  Loss: 0.8016  Validation Accuracy: 65.84%\n",
      "Epoch 24, CIFAR-10 Batch 2:  Loss: 0.7347  Validation Accuracy: 64.40%\n",
      "Epoch 24, CIFAR-10 Batch 3:  Loss: 0.6733  Validation Accuracy: 66.14%\n",
      "Epoch 24, CIFAR-10 Batch 4:  Loss: 0.6659  Validation Accuracy: 66.40%\n",
      "Epoch 24, CIFAR-10 Batch 5:  Loss: 0.7192  Validation Accuracy: 65.60%\n",
      "Epoch 25, CIFAR-10 Batch 1:  Loss: 0.7793  Validation Accuracy: 65.72%\n",
      "Epoch 25, CIFAR-10 Batch 2:  Loss: 0.7244  Validation Accuracy: 65.24%\n",
      "Epoch 25, CIFAR-10 Batch 3:  Loss: 0.6694  Validation Accuracy: 66.44%\n",
      "Epoch 25, CIFAR-10 Batch 4:  Loss: 0.6563  Validation Accuracy: 66.24%\n",
      "Epoch 25, CIFAR-10 Batch 5:  Loss: 0.7103  Validation Accuracy: 65.28%\n",
      "Epoch 26, CIFAR-10 Batch 1:  Loss: 0.7696  Validation Accuracy: 65.52%\n",
      "Epoch 26, CIFAR-10 Batch 2:  Loss: 0.6978  Validation Accuracy: 65.48%\n",
      "Epoch 26, CIFAR-10 Batch 3:  Loss: 0.6804  Validation Accuracy: 66.32%\n",
      "Epoch 26, CIFAR-10 Batch 4:  Loss: 0.6353  Validation Accuracy: 67.06%\n",
      "Epoch 26, CIFAR-10 Batch 5:  Loss: 0.6927  Validation Accuracy: 66.04%\n",
      "Epoch 27, CIFAR-10 Batch 1:  Loss: 0.7473  Validation Accuracy: 66.16%\n",
      "Epoch 27, CIFAR-10 Batch 2:  Loss: 0.6921  Validation Accuracy: 64.96%\n",
      "Epoch 27, CIFAR-10 Batch 3:  Loss: 0.6419  Validation Accuracy: 66.54%\n",
      "Epoch 27, CIFAR-10 Batch 4:  Loss: 0.6171  Validation Accuracy: 67.04%\n",
      "Epoch 27, CIFAR-10 Batch 5:  Loss: 0.6817  Validation Accuracy: 65.70%\n",
      "Epoch 28, CIFAR-10 Batch 1:  Loss: 0.7355  Validation Accuracy: 66.72%\n",
      "Epoch 28, CIFAR-10 Batch 2:  Loss: 0.6601  Validation Accuracy: 65.68%\n",
      "Epoch 28, CIFAR-10 Batch 3:  Loss: 0.6292  Validation Accuracy: 67.00%\n",
      "Epoch 28, CIFAR-10 Batch 4:  Loss: 0.6078  Validation Accuracy: 67.40%\n",
      "Epoch 28, CIFAR-10 Batch 5:  Loss: 0.6616  Validation Accuracy: 66.42%\n",
      "Epoch 29, CIFAR-10 Batch 1:  Loss: 0.7366  Validation Accuracy: 66.48%\n",
      "Epoch 29, CIFAR-10 Batch 2:  Loss: 0.6480  Validation Accuracy: 66.02%\n",
      "Epoch 29, CIFAR-10 Batch 3:  Loss: 0.6164  Validation Accuracy: 66.88%\n",
      "Epoch 29, CIFAR-10 Batch 4:  Loss: 0.5993  Validation Accuracy: 67.22%\n",
      "Epoch 29, CIFAR-10 Batch 5:  Loss: 0.6499  Validation Accuracy: 66.52%\n",
      "Epoch 30, CIFAR-10 Batch 1:  Loss: 0.7277  Validation Accuracy: 66.02%\n",
      "Epoch 30, CIFAR-10 Batch 2:  Loss: 0.6442  Validation Accuracy: 66.14%\n",
      "Epoch 30, CIFAR-10 Batch 3:  Loss: 0.6121  Validation Accuracy: 67.08%\n",
      "Epoch 30, CIFAR-10 Batch 4:  Loss: 0.5903  Validation Accuracy: 67.48%\n",
      "Epoch 30, CIFAR-10 Batch 5:  Loss: 0.6361  Validation Accuracy: 66.78%\n",
      "Epoch 31, CIFAR-10 Batch 1:  Loss: 0.7001  Validation Accuracy: 67.10%\n",
      "Epoch 31, CIFAR-10 Batch 2:  Loss: 0.6347  Validation Accuracy: 66.54%\n",
      "Epoch 31, CIFAR-10 Batch 3:  Loss: 0.6101  Validation Accuracy: 66.86%\n",
      "Epoch 31, CIFAR-10 Batch 4:  Loss: 0.5822  Validation Accuracy: 67.36%\n",
      "Epoch 31, CIFAR-10 Batch 5:  Loss: 0.6313  Validation Accuracy: 66.98%\n",
      "Epoch 32, CIFAR-10 Batch 1:  Loss: 0.6927  Validation Accuracy: 66.58%\n",
      "Epoch 32, CIFAR-10 Batch 2:  Loss: 0.6402  Validation Accuracy: 66.12%\n",
      "Epoch 32, CIFAR-10 Batch 3:  Loss: 0.5908  Validation Accuracy: 66.90%\n",
      "Epoch 32, CIFAR-10 Batch 4:  Loss: 0.5595  Validation Accuracy: 67.40%\n",
      "Epoch 32, CIFAR-10 Batch 5:  Loss: 0.6254  Validation Accuracy: 66.72%\n",
      "Epoch 33, CIFAR-10 Batch 1:  Loss: 0.6698  Validation Accuracy: 67.30%\n",
      "Epoch 33, CIFAR-10 Batch 2:  Loss: 0.6166  Validation Accuracy: 65.92%\n",
      "Epoch 33, CIFAR-10 Batch 3:  Loss: 0.5891  Validation Accuracy: 67.24%\n",
      "Epoch 33, CIFAR-10 Batch 4:  Loss: 0.5518  Validation Accuracy: 67.58%\n",
      "Epoch 33, CIFAR-10 Batch 5:  Loss: 0.6089  Validation Accuracy: 67.04%\n",
      "Epoch 34, CIFAR-10 Batch 1:  Loss: 0.6572  Validation Accuracy: 67.36%\n",
      "Epoch 34, CIFAR-10 Batch 2:  Loss: 0.6098  Validation Accuracy: 65.78%\n",
      "Epoch 34, CIFAR-10 Batch 3:  Loss: 0.5782  Validation Accuracy: 67.78%\n",
      "Epoch 34, CIFAR-10 Batch 4:  Loss: 0.5515  Validation Accuracy: 67.54%\n",
      "Epoch 34, CIFAR-10 Batch 5:  Loss: 0.5993  Validation Accuracy: 66.92%\n",
      "Epoch 35, CIFAR-10 Batch 1:  Loss: 0.6380  Validation Accuracy: 67.76%\n",
      "Epoch 35, CIFAR-10 Batch 2:  Loss: 0.5993  Validation Accuracy: 66.06%\n",
      "Epoch 35, CIFAR-10 Batch 3:  Loss: 0.5651  Validation Accuracy: 67.94%\n",
      "Epoch 35, CIFAR-10 Batch 4:  Loss: 0.5545  Validation Accuracy: 67.84%\n",
      "Epoch 35, CIFAR-10 Batch 5:  Loss: 0.5896  Validation Accuracy: 67.54%\n"
     ]
    }
   ],
   "source": [
    "\"\"\"\n",
    "DON'T MODIFY ANYTHING IN THIS CELL\n",
    "\"\"\"\n",
    "save_model_path = './image_classification'\n",
    "\n",
    "print('Training...')\n",
    "with tf.Session() as sess:\n",
    "    # Initializing the variables\n",
    "    sess.run(tf.global_variables_initializer())\n",
    "    \n",
    "    # Training cycle\n",
    "    for epoch in range(epochs):\n",
    "        # Loop over all batches\n",
    "        n_batches = 5\n",
    "        for batch_i in range(1, n_batches + 1):\n",
    "            for batch_features, batch_labels in helper.load_preprocess_training_batch(batch_i, batch_size):\n",
    "                train_neural_network(sess, optimizer, keep_probability, batch_features, batch_labels)\n",
    "            print('Epoch {:>2}, CIFAR-10 Batch {}:  '.format(epoch + 1, batch_i), end='')\n",
    "            print_stats(sess, batch_features, batch_labels, cost, accuracy)\n",
    "            \n",
    "    # Save Model\n",
    "    saver = tf.train.Saver()\n",
    "    save_path = saver.save(sess, save_model_path)"
   ]
  },
  {
   "cell_type": "markdown",
   "metadata": {},
   "source": [
    "# Checkpoint\n",
    "The model has been saved to disk.\n",
    "## Test Model\n",
    "Test your model against the test dataset.  This will be your final accuracy. You should have an accuracy greater than 50%. If you don't, keep tweaking the model architecture and parameters."
   ]
  },
  {
   "cell_type": "code",
   "execution_count": 20,
   "metadata": {
    "collapsed": false
   },
   "outputs": [
    {
     "name": "stdout",
     "output_type": "stream",
     "text": [
      "Testing Accuracy: 0.6763729333877564\n",
      "\n"
     ]
    },
    {
     "data": {
      "image/png": "[encoded data removed]",
      "text/plain": [
       "<matplotlib.figure.Figure at 0x10de34748>"
      ]
     },
     "metadata": {
      "image/png": {
       "height": 319,
       "width": 355
      }
     },
     "output_type": "display_data"
    }
   ],
   "source": [
    "\"\"\"\n",
    "DON'T MODIFY ANYTHING IN THIS CELL\n",
    "\"\"\"\n",
    "%matplotlib inline\n",
    "%config InlineBackend.figure_format = 'retina'\n",
    "\n",
    "import tensorflow as tf\n",
    "import pickle\n",
    "import helper\n",
    "import random\n",
    "\n",
    "# Set batch size if not already set\n",
    "try:\n",
    "    if batch_size:\n",
    "        pass\n",
    "except NameError:\n",
    "    batch_size = 64\n",
    "\n",
    "save_model_path = './image_classification'\n",
    "n_samples = 4\n",
    "top_n_predictions = 3\n",
    "\n",
    "def test_model():\n",
    "    \"\"\"\n",
    "    Test the saved model against the test dataset\n",
    "    \"\"\"\n",
    "\n",
    "    test_features, test_labels = pickle.load(open('preprocess_test.p', mode='rb'))\n",
    "    loaded_graph = tf.Graph()\n",
    "\n",
    "    with tf.Session(graph=loaded_graph) as sess:\n",
    "        # Load model\n",
    "        loader = tf.train.import_meta_graph(save_model_path + '.meta')\n",
    "        loader.restore(sess, save_model_path)\n",
    "\n",
    "        # Get Tensors from loaded model\n",
    "        loaded_x = loaded_graph.get_tensor_by_name('x:0')\n",
    "        loaded_y = loaded_graph.get_tensor_by_name('y:0')\n",
    "        loaded_keep_prob = loaded_graph.get_tensor_by_name('keep_prob:0')\n",
    "        loaded_logits = loaded_graph.get_tensor_by_name('logits:0')\n",
    "        loaded_acc = loaded_graph.get_tensor_by_name('accuracy:0')\n",
    "        \n",
    "        # Get accuracy in batches for memory limitations\n",
    "        test_batch_acc_total = 0\n",
    "        test_batch_count = 0\n",
    "        \n",
    "        for test_feature_batch, test_label_batch in helper.batch_features_labels(test_features, test_labels, batch_size):\n",
    "            test_batch_acc_total += sess.run(\n",
    "                loaded_acc,\n",
    "                feed_dict={loaded_x: test_feature_batch, loaded_y: test_label_batch, loaded_keep_prob: 1.0})\n",
    "            test_batch_count += 1\n",
    "\n",
    "        print('Testing Accuracy: {}\\n'.format(test_batch_acc_total/test_batch_count))\n",
    "\n",
    "        # Print Random Samples\n",
    "        random_test_features, random_test_labels = tuple(zip(*random.sample(list(zip(test_features, test_labels)), n_samples)))\n",
    "        random_test_predictions = sess.run(\n",
    "            tf.nn.top_k(tf.nn.softmax(loaded_logits), top_n_predictions),\n",
    "            feed_dict={loaded_x: random_test_features, loaded_y: random_test_labels, loaded_keep_prob: 1.0})\n",
    "        helper.display_image_predictions(random_test_features, random_test_labels, random_test_predictions)\n",
    "\n",
    "\n",
    "test_model()"
   ]
  },
  {
   "cell_type": "markdown",
   "metadata": {},
   "source": [
    "## Why 50-80% Accuracy?\n",
    "You might be wondering why you can't get an accuracy any higher. First things first, 50% isn't bad for a simple CNN.  Pure guessing would get you 10% accuracy. However, you might notice people are getting scores [well above 80%](http://rodrigob.github.io/are_we_there_yet/build/classification_datasets_results.html#43494641522d3130).  That's because we haven't taught you all there is to know about neural networks. We still need to cover a few more techniques.\n",
    "## Submitting This Project\n",
    "When submitting this project, make sure to run all the cells before saving the notebook.  Save the notebook file as \"dlnd_image_classification.ipynb\" and save it as a HTML file under \"File\" -> \"Download as\".  Include the \"helper.py\" and \"problem_unittests.py\" files in your submission."
   ]
  },
  {
   "cell_type": "code",
   "execution_count": null,
   "metadata": {
    "collapsed": true
   },
   "outputs": [],
   "source": []
  }
 ],
 "metadata": {
  "kernelspec": {
   "display_name": "Python 3",
   "language": "python",
   "name": "python3"
  },
  "language_info": {
   "codemirror_mode": {
    "name": "ipython",
    "version": 3
   },
   "file_extension": ".py",
   "mimetype": "text/x-python",
   "name": "python",
   "nbconvert_exporter": "python",
   "pygments_lexer": "ipython3",
   "version": "3.6.0"
  }
 },
 "nbformat": 4,
 "nbformat_minor": 0
}
